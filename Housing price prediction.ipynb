{
 "cells": [
  {
   "cell_type": "code",
   "execution_count": 1,
   "id": "9803ab7e",
   "metadata": {},
   "outputs": [],
   "source": [
    "import pandas as pd"
   ]
  },
  {
   "cell_type": "code",
   "execution_count": 3,
   "id": "c7c7ec18",
   "metadata": {},
   "outputs": [
    {
     "name": "stdout",
     "output_type": "stream",
     "text": [
      "      price  area  bedrooms  bathrooms  stories mainroad guestroom basement  \\\n",
      "0  13300000  7420         4          2        3      yes        no       no   \n",
      "1  12250000  8960         4          4        4      yes        no       no   \n",
      "2  12250000  9960         3          2        2      yes        no      yes   \n",
      "3  12215000  7500         4          2        2      yes        no      yes   \n",
      "4  11410000  7420         4          1        2      yes       yes      yes   \n",
      "\n",
      "  hotwaterheating airconditioning  parking prefarea furnishingstatus  \n",
      "0              no             yes        2      yes        furnished  \n",
      "1              no             yes        3       no        furnished  \n",
      "2              no              no        2      yes   semi-furnished  \n",
      "3              no             yes        3      yes        furnished  \n",
      "4              no             yes        2       no        furnished  \n"
     ]
    }
   ],
   "source": [
    "df = pd.read_csv('Housing.csv')\n",
    "print(df.head())"
   ]
  },
  {
   "cell_type": "code",
   "execution_count": 4,
   "id": "3f79514e",
   "metadata": {},
   "outputs": [
    {
     "name": "stdout",
     "output_type": "stream",
     "text": [
      "      price  area  bedrooms  bathrooms  stories  mainroad  guestroom  \\\n",
      "0  13300000  7420         4          2        3         1          0   \n",
      "1  12250000  8960         4          4        4         1          0   \n",
      "2  12250000  9960         3          2        2         1          0   \n",
      "3  12215000  7500         4          2        2         1          0   \n",
      "4  11410000  7420         4          1        2         1          1   \n",
      "\n",
      "   basement  hotwaterheating  airconditioning  parking  prefarea  \\\n",
      "0         0                0                1        2         1   \n",
      "1         0                0                1        3         0   \n",
      "2         1                0                0        2         1   \n",
      "3         1                0                1        3         1   \n",
      "4         1                0                1        2         0   \n",
      "\n",
      "   furnishingstatus  \n",
      "0                 0  \n",
      "1                 0  \n",
      "2                 1  \n",
      "3                 0  \n",
      "4                 0  \n"
     ]
    }
   ],
   "source": [
    "from sklearn.preprocessing import LabelEncoder\n",
    "\n",
    "categorical_cols = ['mainroad', 'guestroom', 'basement', \n",
    "                    'hotwaterheating', 'airconditioning', \n",
    "                    'prefarea', 'furnishingstatus']\n",
    "\n",
    "df_encoded = df.copy()\n",
    "label_encoders = {}\n",
    "for col in categorical_cols:\n",
    "    le = LabelEncoder()\n",
    "    df_encoded[col] = le.fit_transform(df_encoded[col])\n",
    "    label_encoders[col] = le\n",
    "    \n",
    "print(df_encoded.head())"
   ]
  },
  {
   "cell_type": "code",
   "execution_count": 5,
   "id": "d5b47489",
   "metadata": {},
   "outputs": [],
   "source": [
    "x = df_encoded.drop(columns=['price'])\n",
    "y = df_encoded['price']"
   ]
  },
  {
   "cell_type": "code",
   "execution_count": 6,
   "id": "b07ef2d3",
   "metadata": {},
   "outputs": [],
   "source": [
    "from sklearn.model_selection import train_test_split\n",
    "\n",
    "x_train, x_test, y_train, y_test = train_test_split(x,y, \n",
    "                            test_size=0.2, random_state=42)"
   ]
  },
  {
   "cell_type": "code",
   "execution_count": 8,
   "id": "a425b14b",
   "metadata": {},
   "outputs": [
    {
     "name": "stdout",
     "output_type": "stream",
     "text": [
      "Sklearn Linear Regression:\n",
      "MSE: 1771751116594.0344\n",
      "SSE: 193120871708749.75\n",
      "R²: 0.6494754192267804\n"
     ]
    }
   ],
   "source": [
    "from sklearn.linear_model import LinearRegression\n",
    "from sklearn.metrics import mean_squared_error, r2_score\n",
    "\n",
    "lin_reg = LinearRegression()\n",
    "lin_reg.fit(x_train, y_train)\n",
    "\n",
    "y_pred_sklearn = lin_reg.predict(x_test)\n",
    "\n",
    "mse_sklearn = mean_squared_error(y_test, y_pred_sklearn)\n",
    "sse_sklearn = ((y_test - y_pred_sklearn) ** 2).sum()\n",
    "r2_sklearn  = r2_score(y_test, y_pred_sklearn)\n",
    "\n",
    "print(f\"Sklearn Linear Regression:\\nMSE: {mse_sklearn}\\nSSE: {sse_sklearn}\\nR²: {r2_sklearn}\")"
   ]
  },
  {
   "cell_type": "markdown",
   "id": "52d3b417",
   "metadata": {},
   "source": [
    " ## Implement Linear Regression Manually (Normal Equation)"
   ]
  },
  {
   "cell_type": "code",
   "execution_count": 10,
   "id": "610cfc89",
   "metadata": {},
   "outputs": [],
   "source": [
    "import numpy as np\n",
    "\n",
    "x_train_bias = np.c_[np.ones((x_train.shape[0], 1)), x_train]\n",
    "x_test_bias = np.c_[np.ones((x_test.shape[0], 1)), x_test]"
   ]
  },
  {
   "cell_type": "code",
   "execution_count": 12,
   "id": "5ec769c9",
   "metadata": {},
   "outputs": [],
   "source": [
    "theta = np.linalg.inv(x_train_bias.T @ x_train_bias) @ x_train_bias.T @ y_train"
   ]
  },
  {
   "cell_type": "code",
   "execution_count": 13,
   "id": "cb7d0461",
   "metadata": {},
   "outputs": [],
   "source": [
    "y_pred_manual = x_test_bias @ theta"
   ]
  },
  {
   "cell_type": "code",
   "execution_count": 14,
   "id": "2f92615b",
   "metadata": {},
   "outputs": [
    {
     "name": "stdout",
     "output_type": "stream",
     "text": [
      "Manual Linear Regression:\n",
      "MSE: 1771751116594.0317\n",
      "SSE: 193120871708749.47\n",
      "R²: 0.649475419226781\n"
     ]
    }
   ],
   "source": [
    "mse_manual = mean_squared_error(y_test, y_pred_manual)\n",
    "sse_manual = ((y_test - y_pred_manual) ** 2).sum()\n",
    "r2_manual  = r2_score(y_test, y_pred_manual)\n",
    "\n",
    "print(f\"Manual Linear Regression:\\nMSE: {mse_manual}\\nSSE: {sse_manual}\\nR²: {r2_manual}\")"
   ]
  },
  {
   "cell_type": "code",
   "execution_count": null,
   "id": "77030ba9",
   "metadata": {},
   "outputs": [],
   "source": []
  }
 ],
 "metadata": {
  "kernelspec": {
   "display_name": "Python 3 (ipykernel)",
   "language": "python",
   "name": "python3"
  },
  "language_info": {
   "codemirror_mode": {
    "name": "ipython",
    "version": 3
   },
   "file_extension": ".py",
   "mimetype": "text/x-python",
   "name": "python",
   "nbconvert_exporter": "python",
   "pygments_lexer": "ipython3",
   "version": "3.11.5"
  }
 },
 "nbformat": 4,
 "nbformat_minor": 5
}
