{
 "cells": [
  {
   "cell_type": "markdown",
   "id": "f9ce81c4",
   "metadata": {},
   "source": [
    "Create Arrays Using Different Methods"
   ]
  },
  {
   "cell_type": "code",
   "execution_count": 1,
   "id": "89319396",
   "metadata": {},
   "outputs": [
    {
     "name": "stdout",
     "output_type": "stream",
     "text": [
      "[1, 2, 3, 4, 4, 43, 3, 3443, 4334]\n"
     ]
    }
   ],
   "source": [
    "#uisng list iterals\n",
    "array = [1,2,3,4,4,43,3,3443,4334]\n",
    "print(array)"
   ]
  },
  {
   "cell_type": "code",
   "execution_count": 2,
   "id": "0b04ab53",
   "metadata": {},
   "outputs": [
    {
     "name": "stdout",
     "output_type": "stream",
     "text": [
      "[1, 2, 3, 2, 3, 23, 2]\n"
     ]
    }
   ],
   "source": [
    "# using list() constructor\n",
    "array = list([1,2,3,2,3,23,2])\n",
    "print(array)"
   ]
  },
  {
   "cell_type": "code",
   "execution_count": 3,
   "id": "9fbb200f",
   "metadata": {},
   "outputs": [
    {
     "name": "stdout",
     "output_type": "stream",
     "text": [
      "array('i', [1, 3, 12, 123, 12, 3])\n"
     ]
    }
   ],
   "source": [
    "import array \n",
    "arr = array.array('i', [1,3,12,123,12,3])\n",
    "print(arr)"
   ]
  },
  {
   "cell_type": "code",
   "execution_count": 4,
   "id": "40a61667",
   "metadata": {},
   "outputs": [
    {
     "name": "stdout",
     "output_type": "stream",
     "text": [
      "[ 1  2  3 23  2  3 23  2]\n"
     ]
    }
   ],
   "source": [
    "import numpy as np\n",
    "arr = np.array([1,2,3,23,2,3,23,2])\n",
    "print(arr)"
   ]
  },
  {
   "cell_type": "code",
   "execution_count": 5,
   "id": "25dbb68e",
   "metadata": {},
   "outputs": [
    {
     "name": "stdout",
     "output_type": "stream",
     "text": [
      "[0. 0. 0. 0. 0.]\n"
     ]
    }
   ],
   "source": [
    "arr_1d_zeros = np.zeros(5)\n",
    "print(arr_1d_zeros)"
   ]
  },
  {
   "cell_type": "code",
   "execution_count": 6,
   "id": "7ee82121",
   "metadata": {},
   "outputs": [
    {
     "name": "stdout",
     "output_type": "stream",
     "text": [
      "[1. 1. 1. 1. 1.]\n"
     ]
    }
   ],
   "source": [
    "arr_1d_ones = np.ones(5)\n",
    "print(arr_1d_ones)"
   ]
  },
  {
   "cell_type": "code",
   "execution_count": 7,
   "id": "68ff6642",
   "metadata": {},
   "outputs": [
    {
     "name": "stdout",
     "output_type": "stream",
     "text": [
      "[1 2 3 4 5]\n"
     ]
    }
   ],
   "source": [
    "arr_1d_arange = np.arange(1,6)\n",
    "print(arr_1d_arange)"
   ]
  },
  {
   "cell_type": "code",
   "execution_count": 8,
   "id": "d862f948",
   "metadata": {},
   "outputs": [
    {
     "name": "stdout",
     "output_type": "stream",
     "text": [
      "[[1 2 3]\n",
      " [4 5 6]]\n"
     ]
    }
   ],
   "source": [
    "arr_2d = np.array([[1,2,3],[4,5,6]])\n",
    "print(arr_2d)"
   ]
  },
  {
   "cell_type": "code",
   "execution_count": 9,
   "id": "f1d259cc",
   "metadata": {},
   "outputs": [
    {
     "name": "stdout",
     "output_type": "stream",
     "text": [
      "[[0. 0. 0.]\n",
      " [0. 0. 0.]]\n"
     ]
    }
   ],
   "source": [
    "arr_2d_zeros = np.zeros((2,3))\n",
    "print(arr_2d_zeros)"
   ]
  },
  {
   "cell_type": "code",
   "execution_count": 10,
   "id": "d96ffcb9",
   "metadata": {},
   "outputs": [
    {
     "name": "stdout",
     "output_type": "stream",
     "text": [
      "[[1. 1. 1.]\n",
      " [1. 1. 1.]]\n"
     ]
    }
   ],
   "source": [
    "arr_2d_ones = np.ones((2,3))\n",
    "print(arr_2d_ones)"
   ]
  },
  {
   "cell_type": "code",
   "execution_count": 11,
   "id": "a4b5355d",
   "metadata": {},
   "outputs": [
    {
     "name": "stdout",
     "output_type": "stream",
     "text": [
      "[[1 2 3]\n",
      " [4 5 6]]\n"
     ]
    }
   ],
   "source": [
    "arr_2d_arange = np.arange(1,7).reshape((2,3))\n",
    "print(arr_2d_arange)"
   ]
  },
  {
   "cell_type": "markdown",
   "id": "a3b31314",
   "metadata": {},
   "source": [
    "Array indexing and slicing"
   ]
  },
  {
   "cell_type": "code",
   "execution_count": 12,
   "id": "f68fc076",
   "metadata": {},
   "outputs": [
    {
     "name": "stdout",
     "output_type": "stream",
     "text": [
      "[10 20 30 40 50]\n"
     ]
    }
   ],
   "source": [
    "arr1 = np.array([10,20,30,40,50])\n",
    "print(arr1)"
   ]
  },
  {
   "cell_type": "code",
   "execution_count": 14,
   "id": "c1704842",
   "metadata": {},
   "outputs": [
    {
     "name": "stdout",
     "output_type": "stream",
     "text": [
      "[10 20 30]\n"
     ]
    }
   ],
   "source": [
    "print(arr1[:3])"
   ]
  },
  {
   "cell_type": "code",
   "execution_count": 15,
   "id": "1dfe7a66",
   "metadata": {},
   "outputs": [
    {
     "name": "stdout",
     "output_type": "stream",
     "text": [
      "[30 40 50]\n"
     ]
    }
   ],
   "source": [
    "print(arr1[arr1 > 20])"
   ]
  },
  {
   "cell_type": "markdown",
   "id": "2c658229",
   "metadata": {},
   "source": [
    "Mathematical operations on arrays"
   ]
  },
  {
   "cell_type": "code",
   "execution_count": 20,
   "id": "46f9b734",
   "metadata": {},
   "outputs": [
    {
     "name": "stdout",
     "output_type": "stream",
     "text": [
      "[0 1 2 3 4 5 6 7 8 9]\n",
      "[ 0  2  4  6  8 10 12 14 16 18]\n",
      "[ 0  3  6  9 12 15 18 21 24 27]\n"
     ]
    }
   ],
   "source": [
    "arr1 = np.arange(0,10,1)\n",
    "print(arr1)\n",
    "arr2 = np.arange(0,20,2)\n",
    "print(arr2)\n",
    "print(arr1 + arr2)"
   ]
  },
  {
   "cell_type": "code",
   "execution_count": 18,
   "id": "306b0aaf",
   "metadata": {},
   "outputs": [
    {
     "name": "stdout",
     "output_type": "stream",
     "text": [
      "[0 1 2 3 4 5 6 7 8 9]\n"
     ]
    }
   ],
   "source": [
    "print(arr2 - arr1)"
   ]
  },
  {
   "cell_type": "code",
   "execution_count": 19,
   "id": "3e24fdf9",
   "metadata": {},
   "outputs": [
    {
     "name": "stdout",
     "output_type": "stream",
     "text": [
      "[  0   2   8  18  32  50  72  98 128 162]\n"
     ]
    }
   ],
   "source": [
    "print(arr1 * arr2)"
   ]
  },
  {
   "cell_type": "code",
   "execution_count": 23,
   "id": "04a944e0",
   "metadata": {},
   "outputs": [
    {
     "name": "stdout",
     "output_type": "stream",
     "text": [
      "[nan 0.5 0.5 0.5 0.5 0.5 0.5 0.5 0.5 0.5]\n"
     ]
    },
    {
     "name": "stderr",
     "output_type": "stream",
     "text": [
      "C:\\Users\\Dell\\AppData\\Local\\Temp\\ipykernel_20396\\357923655.py:1: RuntimeWarning: invalid value encountered in divide\n",
      "  print(arr1/arr2)\n"
     ]
    }
   ],
   "source": [
    "print(arr1/arr2)"
   ]
  },
  {
   "cell_type": "code",
   "execution_count": 25,
   "id": "7eaa990d",
   "metadata": {},
   "outputs": [
    {
     "name": "stdout",
     "output_type": "stream",
     "text": [
      "45\n"
     ]
    }
   ],
   "source": [
    "add = np.sum(arr1)\n",
    "print(add)"
   ]
  },
  {
   "cell_type": "code",
   "execution_count": 26,
   "id": "966f5c05",
   "metadata": {},
   "outputs": [
    {
     "name": "stdout",
     "output_type": "stream",
     "text": [
      "4.5\n"
     ]
    }
   ],
   "source": [
    "mean = np.mean(arr1)\n",
    "print(mean)"
   ]
  },
  {
   "cell_type": "code",
   "execution_count": 29,
   "id": "db996e51",
   "metadata": {},
   "outputs": [
    {
     "name": "stdout",
     "output_type": "stream",
     "text": [
      "2.8722813232690143\n"
     ]
    }
   ],
   "source": [
    "SD = np.std(arr1)\n",
    "print(SD)"
   ]
  },
  {
   "cell_type": "markdown",
   "id": "219d22a7",
   "metadata": {},
   "source": [
    "Matrix operation"
   ]
  },
  {
   "cell_type": "code",
   "execution_count": 34,
   "id": "45b57ac4",
   "metadata": {},
   "outputs": [
    {
     "name": "stdout",
     "output_type": "stream",
     "text": [
      "Matrix multiplication is \n",
      " [[-23  27 -17]\n",
      " [-96 -47  -8]\n",
      " [ 23 -71  58]]\n"
     ]
    }
   ],
   "source": [
    "mat1 = np.array([[-2,5,1], [0,8,-7], [9,-4,-3]])\n",
    "mat2 = np.array([[3,-4,6], [-5,2,-1], [8,9,0]])\n",
    "print(\"Matrix multiplication is \\n\", np.dot(mat1,mat2))"
   ]
  },
  {
   "cell_type": "code",
   "execution_count": 35,
   "id": "79762cd0",
   "metadata": {},
   "outputs": [
    {
     "name": "stdout",
     "output_type": "stream",
     "text": [
      "Matrix Transpose is \n",
      " [[-2  0  9]\n",
      " [ 5  8 -4]\n",
      " [ 1 -7 -3]]\n"
     ]
    }
   ],
   "source": [
    "print('Matrix Transpose is \\n', mat1.T)"
   ]
  },
  {
   "cell_type": "markdown",
   "id": "02ab6098",
   "metadata": {},
   "source": [
    "Generate random data and perform distribution operation"
   ]
  },
  {
   "cell_type": "code",
   "execution_count": 36,
   "id": "2e4bdc2e",
   "metadata": {},
   "outputs": [
    {
     "name": "stdout",
     "output_type": "stream",
     "text": [
      "Uniform distribution data [5.80630761e+00 7.06969392e+00 7.31987793e+00 6.79396755e+00\n",
      " 8.85709677e+00 2.32399720e+00 6.57634694e+00 6.14843539e+00\n",
      " 3.86897662e+00 2.03767142e+00 5.40933205e+00 1.06738883e-01\n",
      " 1.85025519e-01 9.27936249e+00 2.59813556e-01 9.46844798e+00\n",
      " 7.15120985e+00 2.05990155e+00 4.05133071e-01 5.45372588e+00\n",
      " 4.06398329e+00 1.96032625e+00 1.33197842e-01 5.80180354e+00\n",
      " 9.48295480e+00 9.12739959e+00 4.34234404e+00 2.50477244e+00\n",
      " 9.54183154e+00 5.57264029e+00 1.83990497e+00 4.75905911e+00\n",
      " 8.15033717e+00 1.06407854e+00 7.52614272e+00 6.35537358e+00\n",
      " 6.71521130e+00 7.16116454e+00 5.06546828e-02 3.16796487e+00\n",
      " 4.73193078e+00 7.78699269e+00 8.88960041e+00 4.88288051e+00\n",
      " 1.29879848e+00 1.14780402e+00 6.33479275e+00 1.39340780e+00\n",
      " 8.45063065e+00 6.10397854e-01 8.14540761e+00 3.51667130e+00\n",
      " 9.75716590e+00 3.83409194e+00 3.97449039e+00 4.05122021e+00\n",
      " 1.48005581e+00 7.17764576e+00 3.20187224e+00 1.96896002e+00\n",
      " 8.41426945e+00 2.72566256e+00 7.48366041e+00 4.24063596e+00\n",
      " 8.89684592e+00 9.40108296e-02 8.86862634e+00 4.29709519e+00\n",
      " 1.27398860e+00 8.42080891e+00 3.17504108e+00 3.95565418e+00\n",
      " 7.30940445e+00 7.44226662e+00 7.04309933e+00 5.34004667e+00\n",
      " 1.88068492e-01 8.54667828e+00 5.60430830e+00 8.03886514e+00\n",
      " 9.30502160e+00 9.73125774e+00 2.83633741e+00 1.03286069e+00\n",
      " 6.48422095e+00 7.82610361e+00 1.22449331e+00 4.83214475e+00\n",
      " 9.11626047e+00 1.67912410e+00 3.73604617e+00 1.03118245e+00\n",
      " 6.26322345e+00 7.00909336e+00 5.21408397e+00 2.92219546e+00\n",
      " 1.67285959e+00 8.79298489e+00 5.11745211e+00 7.97419908e+00\n",
      " 3.75119904e+00 1.26713424e+00 3.85576898e+00 6.80851772e+00\n",
      " 3.41725288e+00 9.28763595e+00 2.50249871e+00 3.70785200e+00\n",
      " 8.38936471e+00 2.16505415e+00 6.48583211e+00 6.58628982e+00\n",
      " 8.38164064e+00 3.88659064e+00 7.12854684e+00 2.29827289e+00\n",
      " 7.23115583e+00 4.08971677e+00 9.00521966e+00 4.77590902e+00\n",
      " 5.55425523e+00 7.85325409e+00 4.43011243e+00 8.00486076e+00\n",
      " 3.04321221e+00 9.83967370e+00 4.98372181e+00 4.76352007e+00\n",
      " 6.33337334e-02 2.20261002e+00 7.29546193e+00 1.36912875e+00\n",
      " 1.71474805e+00 5.52791603e+00 3.49219620e+00 8.30064767e+00\n",
      " 2.87282755e+00 3.19735944e+00 4.22117456e-01 3.71915091e-01\n",
      " 8.69238807e+00 1.16589600e+00 9.00429041e+00 8.46927254e+00\n",
      " 8.28637050e+00 5.32505484e+00 1.14258504e+00 1.18015329e+00\n",
      " 5.80933745e+00 2.69574070e-01 9.92682605e+00 7.54453670e+00\n",
      " 8.91795275e+00 2.75458764e-01 6.63079207e+00 6.92365565e+00\n",
      " 3.80558318e+00 7.75466266e+00 6.06272705e+00 3.44697144e+00\n",
      " 3.09896512e+00 2.32259348e+00 8.96568427e+00 1.29667635e-01\n",
      " 8.13070238e+00 3.81433710e+00 7.64569771e+00 2.20936510e+00\n",
      " 4.05188917e+00 6.36839173e+00 3.99663127e+00 6.30793386e+00\n",
      " 6.15682246e+00 5.32643203e+00 3.47570796e+00 7.35352650e+00\n",
      " 8.71563341e+00 6.68320258e+00 9.84357398e+00 3.06576471e+00\n",
      " 5.08795481e-01 5.98671912e-01 8.57540930e+00 2.45553198e+00\n",
      " 7.84641712e+00 8.54031024e+00 5.78667438e+00 6.72710710e+00\n",
      " 2.42755757e+00 5.54492810e+00 7.62221339e+00 5.70416700e+00\n",
      " 6.55102282e+00 9.17380786e+00 8.33129466e+00 7.27660000e+00\n",
      " 3.51381293e+00 4.83772529e+00 2.08171947e+00 7.70154118e+00\n",
      " 4.72126052e+00 4.45717817e+00 6.20537242e+00 1.09050397e+00\n",
      " 7.82457186e+00 4.31643853e+00 6.46358289e+00 6.85873593e+00\n",
      " 5.14940293e+00 7.10967167e+00 6.43661185e+00 4.46773990e+00\n",
      " 3.28163126e+00 1.13970888e+00 3.04758619e+00 8.64778779e+00\n",
      " 7.74413072e-01 8.12174656e+00 1.80207499e-01 3.70932173e+00\n",
      " 8.55181540e-01 6.24233097e+00 3.72354022e+00 2.27734865e+00\n",
      " 8.02753756e+00 9.99922067e+00 9.78569535e+00 8.88145350e+00\n",
      " 1.81798141e-01 5.59566380e+00 5.00788910e-01 1.30451150e+00\n",
      " 6.19185443e+00 7.22499480e+00 1.69764885e+00 7.79105530e+00\n",
      " 4.41821052e-01 7.02699437e+00 6.35235478e+00 4.85142825e+00\n",
      " 7.45828171e+00 7.85582888e+00 6.61522304e+00 8.73293098e+00\n",
      " 9.45761265e+00 2.95613621e+00 3.02954593e+00 1.61558871e+00\n",
      " 2.11794278e+00 8.53901418e+00 4.93914053e+00 6.29137229e+00\n",
      " 7.12208115e+00 3.48176423e+00 3.46303637e+00 9.61918921e+00\n",
      " 2.51791941e+00 2.65512489e+00 5.58869964e+00 7.05223155e+00\n",
      " 5.01174310e+00 7.82024483e+00 4.38987241e+00 3.60333279e+00\n",
      " 3.19489553e+00 4.68086909e+00 6.76188532e+00 6.10572829e+00\n",
      " 4.50353676e+00 3.38400616e+00 2.53354742e-01 2.89131774e+00\n",
      " 3.32789923e+00 9.90694579e+00 3.61488835e+00 5.96076905e-01\n",
      " 3.55186314e+00 4.75827262e+00 9.80316380e+00 9.68936381e+00\n",
      " 1.96340876e+00 5.30470010e+00 5.39596427e+00 1.39190085e+00\n",
      " 7.31056821e+00 8.57981586e+00 6.98179021e+00 8.14370465e+00\n",
      " 8.71502943e+00 8.14091740e+00 7.11397381e+00 9.84405687e+00\n",
      " 4.20868011e-02 4.34999210e+00 4.84915784e+00 9.44311950e+00\n",
      " 7.90032537e+00 5.37043310e+00 8.27851743e+00 7.79634819e+00\n",
      " 6.36231437e+00 5.21209333e+00 8.17070578e+00 6.58167110e+00\n",
      " 3.87550391e+00 3.46260819e+00 7.68415892e-02 2.97810854e+00\n",
      " 3.69549435e+00 4.08196766e+00 8.40465758e+00 5.90514826e+00\n",
      " 7.32666233e+00 7.79469724e+00 3.10180938e+00 4.83811945e+00\n",
      " 4.73818131e+00 8.82129705e+00 2.72251612e+00 9.01459284e+00\n",
      " 8.43774878e+00 6.49119725e+00 1.81745500e+00 9.94926290e+00\n",
      " 3.43623655e+00 6.69293038e+00 6.45121474e+00 6.93419617e-01\n",
      " 3.74714657e+00 8.72073589e+00 5.47289248e+00 1.45992964e+00\n",
      " 8.75917255e+00 5.81048927e+00 4.23381882e+00 3.70528575e+00\n",
      " 4.89775205e+00 7.87693186e+00 2.30039842e+00 1.00915909e+00\n",
      " 8.82305911e+00 2.35343424e+00 5.99861402e+00 5.73113818e+00\n",
      " 3.49458659e+00 5.87083134e+00 5.51961800e+00 9.71124189e+00\n",
      " 8.11004859e+00 2.77954981e+00 6.19137059e-01 2.87528630e+00\n",
      " 1.82173686e+00 2.75860227e+00 8.78334495e-01 6.47695448e+00\n",
      " 2.69206899e+00 4.31285645e+00 8.95132522e+00 4.74322062e+00\n",
      " 9.63475200e+00 6.60987517e+00 4.38515837e+00 9.19283838e-01\n",
      " 8.92970809e+00 4.90093990e+00 6.55421148e+00 3.46338880e+00\n",
      " 9.10889464e+00 1.79709480e+00 8.69546701e+00 3.25401346e+00\n",
      " 4.48752718e+00 4.52878985e+00 1.91871021e+00 8.61189904e+00\n",
      " 9.06883414e+00 8.02142640e+00 2.38779697e+00 2.09001820e+00\n",
      " 1.34124002e+00 9.79555150e+00 4.12825383e+00 5.03847742e+00\n",
      " 9.09545097e+00 6.31114898e+00 6.08258780e+00 9.70563918e+00\n",
      " 9.88825418e+00 5.35633193e-01 4.85384523e+00 2.12833623e+00\n",
      " 8.73360984e+00 3.21301655e+00 6.44658243e-01 4.79187165e-01\n",
      " 4.65948094e+00 4.61171159e+00 8.24895709e+00 7.38989967e+00\n",
      " 9.46344979e+00 9.98500451e+00 5.57864465e-01 7.87478735e+00\n",
      " 9.69682512e-01 9.52896205e+00 3.69690300e+00 2.35036030e+00\n",
      " 3.18487204e+00 6.37412152e+00 7.44708554e+00 3.09389887e+00\n",
      " 4.67936429e+00 5.78356619e+00 7.07943764e+00 6.75283003e+00\n",
      " 8.60536759e+00 8.44841874e+00 1.92817551e+00 4.09315135e+00\n",
      " 2.80844205e+00 2.21865306e+00 7.61691194e+00 9.78742759e+00\n",
      " 9.64036683e+00 9.73408553e+00 4.12171852e+00 9.64497085e+00\n",
      " 2.66377456e+00 2.45331295e+00 2.18127793e+00 7.92448260e+00\n",
      " 6.44611827e-01 2.19541251e+00 7.18532530e+00 3.21382202e+00\n",
      " 7.31204670e+00 7.42588816e+00 5.94814774e+00 1.15911206e-01\n",
      " 5.43989850e-01 5.68828836e+00 4.10402144e+00 6.18477512e+00\n",
      " 5.16766505e+00 3.48436353e+00 8.55997072e+00 9.27442143e+00\n",
      " 4.73005997e+00 8.04667187e-01 5.55939150e+00 4.42787253e+00\n",
      " 7.54774931e+00 4.24143963e+00 3.24625253e+00 8.45695526e+00\n",
      " 3.35219676e+00 3.45529343e+00 9.40888266e+00 2.62948848e+00\n",
      " 7.56806618e+00 8.96839692e-02 9.24272487e+00 7.95865204e+00\n",
      " 2.26892969e+00 8.02654489e+00 4.90077716e+00 5.11599993e+00\n",
      " 6.84181787e+00 5.15044578e+00 9.20573188e+00 4.48799566e+00\n",
      " 9.82902077e+00 5.56967604e+00 6.66638275e+00 2.86035012e+00\n",
      " 7.02071871e+00 5.85393039e+00 7.25899408e+00 4.79024324e+00\n",
      " 3.19293896e+00 7.28566565e+00 9.38254958e+00 7.04493846e+00\n",
      " 9.19731948e+00 4.85796991e+00 2.60326698e+00 6.94812619e+00\n",
      " 3.62014234e+00 9.65290864e-01 2.12911158e+00 8.88386282e+00\n",
      " 3.43869674e-01 5.69429747e+00 3.17576549e+00 4.40279519e+00\n",
      " 7.49804787e+00 7.35959939e+00 4.64241930e+00 3.63929602e+00\n",
      " 7.60221243e+00 7.41021580e+00 9.09196712e-01 6.84250727e+00\n",
      " 8.02007380e+00 4.64976361e+00 8.65757655e+00 2.52618729e+00\n",
      " 9.27177444e-01 4.60721834e+00 6.58950697e+00 1.88964265e+00\n",
      " 1.49720305e+00 7.46640743e+00 6.92184195e+00 7.41160357e+00\n",
      " 5.67851724e+00 6.42810634e+00 1.78695948e+00 5.18258723e+00\n",
      " 2.52173008e+00 8.90240964e+00 3.01850528e+00 9.99654391e+00\n",
      " 3.62127180e+00 6.99166208e+00 6.27320875e+00 7.30182005e+00\n",
      " 9.96299312e+00 2.58850392e+00 8.05717803e+00 9.20248985e+00\n",
      " 4.27733122e+00 8.68225397e-01 4.16685586e+00 4.86795218e+00\n",
      " 5.91501415e+00 2.58271636e+00 3.55724600e+00 7.95175713e+00\n",
      " 5.21086419e+00 1.55021595e-01 2.84096553e+00 8.67360647e+00\n",
      " 4.11637170e+00 1.91330401e+00 6.27524669e+00 2.14688004e+00\n",
      " 6.52555160e+00 1.74682887e+00 6.21629836e+00 5.78835922e+00\n",
      " 1.73392454e+00 8.03546813e+00 4.67162915e+00 8.00639362e+00\n",
      " 4.99400820e+00 5.12950514e+00 7.78080582e+00 1.31510455e+00\n",
      " 9.95469053e+00 6.95773218e+00 9.04334289e+00 2.96280978e-01\n",
      " 1.43647747e+00 6.64125427e+00 5.78544091e+00 7.54740760e+00\n",
      " 2.78777533e+00 9.14323414e-01 2.98271732e+00 8.23128452e+00\n",
      " 5.91962977e+00 7.39657711e+00 3.88166267e+00 6.80486085e+00\n",
      " 4.89958068e+00 8.08085457e+00 4.04363599e+00 3.94181353e+00\n",
      " 1.17786538e+00 5.54909239e+00 4.42416006e+00 1.44492476e-01\n",
      " 7.72957196e+00 7.72926081e+00 9.36230115e+00 8.66849718e+00\n",
      " 6.08114504e+00 5.73387158e+00 3.87676521e+00 5.72357436e+00\n",
      " 4.62778674e+00 3.62327644e-01 5.28155663e+00 5.67926623e+00\n",
      " 4.86334943e+00 5.18971646e+00 8.84765237e+00 9.26785544e+00\n",
      " 8.69144862e+00 3.09122959e+00 6.79757702e+00 3.29017953e+00\n",
      " 5.63688981e+00 8.50593828e+00 8.92918304e+00 2.01571250e+00\n",
      " 1.09520591e+00 6.52927217e+00 9.66128026e+00 8.22405000e+00\n",
      " 6.59819063e+00 4.11013692e+00 6.64509900e+00 4.26669166e+00\n",
      " 4.98717497e+00 6.28408389e+00 6.37644988e+00 4.69694816e+00\n",
      " 5.56268432e+00 1.69435033e+00 8.94470065e+00 8.17561942e+00\n",
      " 7.46593591e+00 7.24620281e+00 1.64443495e+00 5.90694692e+00\n",
      " 2.20882389e+00 9.59000606e+00 7.34306048e+00 3.95814682e+00\n",
      " 9.80833038e+00 2.72861084e+00 6.59713910e+00 4.07174985e+00\n",
      " 5.46443326e+00 2.10863233e+00 4.54473528e+00 5.42045892e+00\n",
      " 2.70273571e+00 2.21685990e+00 6.37293309e+00 7.72142096e+00\n",
      " 4.93147188e+00 3.39314050e+00 4.68614008e+00 3.34719095e+00\n",
      " 7.59995879e+00 4.57613322e+00 3.34265781e-02 8.79384185e+00\n",
      " 7.04642652e+00 7.65364111e+00 1.33103038e+00 7.14606173e+00\n",
      " 1.29344635e+00 8.00015006e+00 9.42357570e+00 6.02246783e-01\n",
      " 8.88132429e+00 2.96480634e+00 8.52875545e+00 5.16458673e+00\n",
      " 6.80698604e-01 4.72053822e+00 5.76359382e+00 7.14954953e+00\n",
      " 3.20564014e+00 4.38423073e+00 8.52092070e+00 2.26399424e-01\n",
      " 4.38992179e+00 4.17714241e+00 6.97700480e+00 9.24372454e+00\n",
      " 2.13560751e+00 4.35680128e+00 6.30126556e+00 1.72687251e+00\n",
      " 1.29695744e+00 7.17223651e+00 8.41219339e+00 2.66200007e-01\n",
      " 5.94628549e+00 5.87023921e+00 4.40098594e+00 8.94277463e+00\n",
      " 8.58252646e+00 1.45414581e+00 8.49187353e+00 1.46829789e+00\n",
      " 5.83597691e+00 7.70094649e+00 1.79618827e+00 6.33800031e+00\n",
      " 2.45883392e+00 1.73613596e+00 8.15179036e+00 9.64589558e+00\n",
      " 5.46239312e+00 3.31839992e+00 9.76887614e+00 5.66565735e+00\n",
      " 9.46008749e+00 4.17243646e+00 8.89134805e+00 1.41685702e+00\n",
      " 1.99957579e+00 9.91807269e+00 4.69634804e+00 4.13683875e+00\n",
      " 8.68406287e-01 8.46058251e+00 7.00933039e+00 2.26876151e+00\n",
      " 2.07333676e+00 1.00998124e+00 3.08358269e+00 8.66576276e+00\n",
      " 2.86319515e+00 3.31589581e+00 5.25641413e+00 5.96495232e-01\n",
      " 9.98504894e+00 2.40139635e+00 9.49829858e+00 3.03828233e+00\n",
      " 3.54658425e+00 6.47204076e+00 2.24689751e+00 3.00572240e+00\n",
      " 1.44951826e+00 9.20343486e+00 5.03376469e+00 9.82013898e+00\n",
      " 4.83304218e+00 4.10768613e+00 5.29536484e+00 6.65431973e+00\n",
      " 8.85768334e-01 7.98146094e+00 3.74211425e+00 1.82756371e+00\n",
      " 8.36920842e+00 5.37620570e-01 3.04653194e+00 7.59993141e+00\n",
      " 7.21864514e+00 7.67329853e+00 1.97454601e+00 3.12337823e+00\n",
      " 8.18005464e+00 3.28321076e+00 8.44678273e+00 7.88017674e+00\n",
      " 4.30160086e+00 6.31131906e+00 9.05901921e+00 7.61311629e+00\n",
      " 6.85129760e+00 9.81672023e+00 5.50189363e+00 8.82842848e+00\n",
      " 5.28166490e-01 4.47208021e+00 1.60492691e+00 8.98937768e+00\n",
      " 8.26153195e+00 1.83991378e+00 4.59731569e-01 5.08693378e+00\n",
      " 3.53147527e+00 6.52807620e+00 5.90737204e+00 9.37976440e+00\n",
      " 8.77135947e+00 7.25919231e+00 1.01942238e-01 9.10965882e+00\n",
      " 8.07579228e+00 1.84578813e+00 4.76529944e+00 4.78395790e-01\n",
      " 7.68610704e+00 9.55584017e+00 9.49423634e+00 1.09153220e+00\n",
      " 7.11979371e+00 3.63552031e+00 2.47859882e+00 5.61537768e+00\n",
      " 1.32459176e+00 4.12484590e+00 3.59312985e+00 2.79677596e+00\n",
      " 6.41348149e+00 8.95624454e+00 4.83202175e+00 6.93555474e+00\n",
      " 7.86295051e+00 1.74094713e+00 8.67022598e+00 1.21135444e+00\n",
      " 7.98776778e+00 9.64596904e+00 6.76803877e+00 2.80228272e+00\n",
      " 4.05652526e+00 3.85816047e+00 7.40481379e+00 5.42093015e+00\n",
      " 9.40825524e+00 7.58701304e+00 3.72101651e+00 5.52093641e+00\n",
      " 9.00158778e+00 9.39846398e+00 1.32305322e+00 9.05717209e+00\n",
      " 5.78686610e+00 1.14315164e-02 8.49866119e+00 1.82388120e+00\n",
      " 2.58431921e+00 8.88592725e+00 3.11257776e+00 6.93230510e+00\n",
      " 1.33925563e+00 1.47592503e+00 2.69250154e+00 7.04299432e+00\n",
      " 4.94126256e+00 7.63217606e+00 3.56365980e+00 3.72140207e+00\n",
      " 6.70107691e-01 8.47169281e+00 9.02038451e+00 6.33268902e+00\n",
      " 8.38042803e+00 9.08180262e+00 6.97796638e+00 3.32360711e+00\n",
      " 7.91598889e+00 3.10767381e+00 7.10582705e-01 6.96248971e+00\n",
      " 5.58965512e+00 7.13075444e+00 5.58653096e+00 8.96783301e-01\n",
      " 7.89163186e+00 4.29055907e+00 5.09503296e+00 8.68838674e+00\n",
      " 3.04212314e+00 9.87115413e-01 9.11790957e-03 7.26987884e+00\n",
      " 3.59732197e+00 3.48919897e+00 3.63883990e+00 1.84519243e+00\n",
      " 2.00593887e+00 4.12480726e+00 5.05242761e+00 6.54503955e+00\n",
      " 9.42642544e+00 2.65863551e-01 6.81350200e+00 1.97592462e+00\n",
      " 9.22861833e+00 4.23199849e+00 3.24759514e+00 4.24922720e+00\n",
      " 5.54100913e+00 5.45133801e+00 7.07596224e+00 1.74718459e+00\n",
      " 1.94086997e+00 6.06104568e+00 2.30876838e+00 3.52598121e+00\n",
      " 6.90264426e+00 2.64354427e+00 3.33771945e+00 7.67871520e+00\n",
      " 6.46413455e-01 9.74746120e+00 2.09357405e+00 8.58955332e+00\n",
      " 2.51000369e+00 9.45920771e+00 2.56284258e-01 8.82297348e+00\n",
      " 5.07328402e+00 6.33626643e+00 1.11323173e+00 8.34197007e+00\n",
      " 7.90439918e+00 7.74085286e+00 3.81027385e+00 8.31383023e+00\n",
      " 4.74773450e+00 4.05466483e+00 1.72481894e+00 7.77716743e-01\n",
      " 3.39663574e+00 6.67340502e+00 6.33724547e+00 3.11936523e+00\n",
      " 5.98562627e+00 9.92896032e+00 7.40266042e+00 6.03889313e-01\n",
      " 5.60319793e+00 2.31383732e+00 8.02707789e+00 5.80674836e+00\n",
      " 2.46364418e+00 9.31122321e+00 5.02501943e+00 4.87955382e+00\n",
      " 8.99666612e-02 4.64902565e+00 6.47418476e+00 2.32169396e-01\n",
      " 9.31701602e+00 7.37628675e+00 2.31347976e+00 8.95107631e-01\n",
      " 2.25971809e-02 2.35363518e+00 2.47981911e+00 4.83180179e+00\n",
      " 9.73256075e+00 3.36580764e+00 4.70671769e+00 3.05044378e+00\n",
      " 5.15005562e-01 4.86946121e-02 9.45780444e+00 2.59604575e+00\n",
      " 8.70189721e+00 2.46336728e+00 7.35377887e+00 7.83927933e-01\n",
      " 8.09662239e+00 9.55095132e+00 5.13119435e+00 2.45386979e+00\n",
      " 8.89129695e-01 3.96120502e+00 7.27476340e+00 4.07203223e+00\n",
      " 3.62781047e+00 8.53512929e+00 5.84068450e+00 5.31518155e+00\n",
      " 1.30520751e+00 6.67346402e+00 2.92126321e+00 6.41494951e+00\n",
      " 7.46381535e+00 2.76049210e+00 1.23304862e+00 6.41141580e+00\n",
      " 4.37406801e+00 6.06955592e+00 4.14030599e+00 6.78034711e+00\n",
      " 7.55666731e-01 9.94446042e+00 8.79042954e+00 3.77988652e+00\n",
      " 3.46568947e+00 5.37103530e+00 1.71424871e+00 9.75497050e+00\n",
      " 7.91604387e+00 4.52567921e+00 9.00792823e+00 1.12975048e+00\n",
      " 7.16928101e+00 5.83458163e+00 9.96374249e+00 6.02303056e+00\n",
      " 6.15171474e+00 4.60277460e-01 3.35497213e+00 2.43075499e+00\n",
      " 4.25193490e+00 4.22766682e+00 7.06076430e+00 1.93537722e+00\n",
      " 3.59076794e+00 9.04820720e+00 3.15268096e+00 1.52753904e-01]\n"
     ]
    }
   ],
   "source": [
    "uniform_data = np.random.uniform(0,10,1000)\n",
    "print(\"Uniform distribution data\", uniform_data)"
   ]
  },
  {
   "cell_type": "code",
   "execution_count": 37,
   "id": "5aa4eb1c",
   "metadata": {},
   "outputs": [
    {
     "name": "stdout",
     "output_type": "stream",
     "text": [
      "Random integers data \n",
      " [7 6 5 6 3 9 8 4 0 7 0 9 4 3 7 8 5 0 7 4 8 7 1 2 9 0 3 6 7 8 5 5 2 1 2 6 4\n",
      " 6 7 7 1 8 2 5 6 9 0 9 9 1 8 8 1 4 9 5 6 9 3 1 4 7 1 2 9 7 6 6 0 7 7 2 5 6\n",
      " 4 4 8 1 0 3 9 4 3 0 7 6 1 2 9 5 7 2 5 6 2 8 2 9 0 6 7 4 3 1 9 9 0 6 0 1 9\n",
      " 6 2 6 6 9 0 4 5 5 6 2 3 4 0 7 6 1 3 1 3 1 0 4 7 4 7 4 4 4 3 5 8 1 2 6 8 5\n",
      " 5 0 7 1 7 0 6 7 7 4 4 9 7 5 0 6 0 3 6 6 0 8 1 1 5 8 5 9 0 7 9 7 8 9 7 7 7\n",
      " 0 1 7 1 8 4 6 3 3 6 9 6 0 6 3 4 7 7 9 2 4 6 8 3 7 2 5 4 4 2 2 7 8 7 1 1 0\n",
      " 8 3 2 7 2 0 4 2 2 3 7 9 1 8 8 7 3 3 6 1 2 6 9 5 5 0 2 3 3 8 2 5 0 7 7 5 1\n",
      " 3 9 4 9 2 5 1 4 9 3 3 4 3 8 1 7 3 0 1 2 1 0 2 3 6 6 9 5 7 4 9 3 2 4 3 1 2\n",
      " 1 1 1 4 7 7 4 4 5 1 0 0 4 8 3 8 8 2 2 6 4 3 4 8 2 1 4 0 2 4 2 9 0 6 8 6 0\n",
      " 9 0 3 2 7 8 3 9 8 0 9 9 6 2 1 6 7 4 1 7 1 6 5 7 1 2 4 2 2 4 4 6 0 4 9 9 9\n",
      " 7 9 6 9 7 6 7 4 1 9 5 2 7 8 0 8 1 0 1 5 2 0 0 0 1 0 7 0 3 4 0 9 0 3 4 4 6\n",
      " 9 4 6 8 4 0 8 8 7 9 3 1 3 5 9 5 5 5 2 3 3 3 0 0 3 4 7 7 1 6 5 2 5 5 9 8 3\n",
      " 3 6 3 4 5 7 7 0 9 6 7 1 2 3 3 4 7 3 6 1 4 2 8 5 0 2 5 6 4 1 8 2 0 2 0 2 0\n",
      " 6 1 0 8 5 3 7 6 0 4 6 5 1 4 1 4 0 1 5 6 6 2 1 3 7 6 3 2 3 8 8 2 8 2 8 1 5\n",
      " 9 4 2 8 8 6 8 5 9 2 4 3 5 4 4 6 1 2 0 3 6 7 4 7 0 8 9 4 2 8 5 2 5 6 4 5 2\n",
      " 5 2 9 2 1 2 0 9 8 9 2 6 3 0 6 0 1 7 9 0 1 8 3 7 2 3 7 0 4 3 7 8 3 3 0 7 6\n",
      " 7 6 2 2 6 2 0 6 8 8 7 3 4 5 1 0 8 1 7 0 4 2 7 1 7 3 0 0 6 6 4 8 2 8 3 6 8\n",
      " 1 9 5 8 9 2 3 7 6 8 6 0 2 7 1 5 9 9 0 7 7 4 9 0 4 7 9 8 0 5 1 1 2 0 6 0 2\n",
      " 2 2 4 9 4 6 9 0 4 1 0 4 0 0 9 3 8 9 6 9 7 3 9 8 0 7 0 5 8 8 4 8 3 0 9 8 7\n",
      " 7 5 2 1 9 0 6 2 8 8 8 1 4 8 3 4 0 6 9 8 5 2 3 9 5 0 7 3 3 6 5 4 4 6 7 0 3\n",
      " 1 6 4 4 3 0 4 6 1 8 7 0 8 9 7 8 1 4 1 7 7 2 0 3 5 4 6 0 3 7 0 2 8 4 2 8 4\n",
      " 6 0 7 2 6 4 3 2 6 4 0 8 0 7 7 7 5 1 9 4 0 9 0 5 5 5 2 4 1 3 0 5 4 1 7 9 8\n",
      " 6 8 2 7 1 2 0 3 2 2 9 4 1 8 8 7 8 6 0 0 3 7 0 3 9 6 6 0 2 8 5 1 9 6 3 8 2\n",
      " 4 1 6 9 0 4 3 4 6 7 4 9 2 5 4 0 4 8 2 3 4 3 2 4 2 5 8 5 6 4 3 4 7 1 5 3 2\n",
      " 8 6 7 2 6 6 7 6 1 6 4 9 8 5 8 7 2 8 9 7 2 3 6 8 2 0 1 6 0 9 3 3 4 5 7 6 6\n",
      " 8 5 4 2 7 8 0 9 3 4 2 7 4 6 4 0 4 0 2 3 9 7 4 0 0 1 3 1 0 9 5 9 4 8 2 8 5\n",
      " 4 6 6 7 0 3 6 6 8 2 1 8 5 6 2 9 7 6 4 6 1 2 3 8 8 4 6 7 4 3 0 8 7 9 3 7 1\n",
      " 1]\n"
     ]
    }
   ],
   "source": [
    "random_integer = np.random.randint(0,10,1000)\n",
    "print(\"Random integers data \\n\", random_integer)"
   ]
  },
  {
   "cell_type": "code",
   "execution_count": 38,
   "id": "094a6aa1",
   "metadata": {},
   "outputs": [],
   "source": [
    "import matplotlib.pyplot as plt"
   ]
  },
  {
   "cell_type": "code",
   "execution_count": 42,
   "id": "4ff98a28",
   "metadata": {},
   "outputs": [
    {
     "data": {
      "text/plain": [
       "Text(0.5, 1.0, 'histogram for random integers')"
      ]
     },
     "execution_count": 42,
     "metadata": {},
     "output_type": "execute_result"
    },
    {
     "data": {
      "image/png": "[encoded data removed]",
      "text/plain": [
       "<Figure size 640x480 with 1 Axes>"
      ]
     },
     "metadata": {},
     "output_type": "display_data"
    }
   ],
   "source": [
    "plt.hist(uniform_data, edgecolor = \"black\")\n",
    "plt.title(\"histogram for uniform distribution\")\n",
    "plt.hist(random_integer, edgecolor = \"black\")\n",
    "plt.title(\"histogram for random integers\")"
   ]
  },
  {
   "cell_type": "markdown",
   "id": "9fce7bc0",
   "metadata": {},
   "source": [
    "Linear algebra operations"
   ]
  },
  {
   "cell_type": "code",
   "execution_count": 43,
   "id": "52385c57",
   "metadata": {},
   "outputs": [
    {
     "name": "stdout",
     "output_type": "stream",
     "text": [
      "-283.0\n"
     ]
    }
   ],
   "source": [
    "det = np.linalg.det(mat1)\n",
    "print(det)"
   ]
  },
  {
   "cell_type": "code",
   "execution_count": 47,
   "id": "8570fcd5",
   "metadata": {},
   "outputs": [
    {
     "name": "stdout",
     "output_type": "stream",
     "text": [
      "Solution of system , (x,y,z):[0.15384615 0.         0.69230769]\n"
     ]
    }
   ],
   "source": [
    "a = np.array([[2,8,1], [4,1,2], [-3,2,5]])\n",
    "b = np.array([1,2,3])\n",
    "det_a = np.linalg.det(a)\n",
    "if det_a != 0:\n",
    "    x = np.linalg.solve(a,b)\n",
    "    print(f\"Solution of system , (x,y,z):{x}\")\n",
    "else:\n",
    "    print('Matrix a is singular, no value')"
   ]
  },
  {
   "cell_type": "code",
   "execution_count": 51,
   "id": "0dee8017",
   "metadata": {},
   "outputs": [
    {
     "name": "stdout",
     "output_type": "stream",
     "text": [
      "covariance b/w x and y : -2.5\n"
     ]
    }
   ],
   "source": [
    "x = np.array([1,2,3,4,5])\n",
    "y = np.array([5,4,3,2,1])\n",
    "cov_mat = np.cov(x,y)\n",
    "print(f\"covariance b/w x and y : {cov_xy}\")"
   ]
  },
  {
   "cell_type": "code",
   "execution_count": 54,
   "id": "7643583f",
   "metadata": {},
   "outputs": [
    {
     "name": "stdout",
     "output_type": "stream",
     "text": [
      "pearson correlation b/w x and y : -0.9999999999999999\n"
     ]
    }
   ],
   "source": [
    "correlation_xy = np.corrcoef(x,y)[0,1]\n",
    "print(f\"pearson correlation b/w x and y : {correlation_xy}\")"
   ]
  },
  {
   "cell_type": "markdown",
   "id": "c736020a",
   "metadata": {},
   "source": [
    "Sort and search element in an array"
   ]
  },
  {
   "cell_type": "code",
   "execution_count": 55,
   "id": "3c900136",
   "metadata": {},
   "outputs": [
    {
     "name": "stdout",
     "output_type": "stream",
     "text": [
      "sorted array (ascending): [ 1  2  4  5  7 13 15 19]\n"
     ]
    }
   ],
   "source": [
    "arr = np.array([1,2,4,5,19,7,13,15])\n",
    "sorted_array = np.sort(arr)\n",
    "print(\"sorted array (ascending):\", sorted_array)"
   ]
  },
  {
   "cell_type": "code",
   "execution_count": 61,
   "id": "76de92fc",
   "metadata": {},
   "outputs": [
    {
     "name": "stdout",
     "output_type": "stream",
     "text": [
      "Element7 found at index 4 in sorted array\n"
     ]
    }
   ],
   "source": [
    "search_element = 7\n",
    "index = np.searchsorted(sorted_array, search_element)\n",
    "if index < len(sorted_array) and sorted_array[index] == search_element:\n",
    "    print(f\"Element{search_element} found at index {index} in sorted array\")\n",
    "else:\n",
    "    print(\"element not found\")"
   ]
  },
  {
   "cell_type": "code",
   "execution_count": null,
   "id": "ecb3a8c6",
   "metadata": {},
   "outputs": [],
   "source": []
  }
 ],
 "metadata": {
  "kernelspec": {
   "display_name": "Python 3 (ipykernel)",
   "language": "python",
   "name": "python3"
  },
  "language_info": {
   "codemirror_mode": {
    "name": "ipython",
    "version": 3
   },
   "file_extension": ".py",
   "mimetype": "text/x-python",
   "name": "python",
   "nbconvert_exporter": "python",
   "pygments_lexer": "ipython3",
   "version": "3.11.5"
  }
 },
 "nbformat": 4,
 "nbformat_minor": 5
}
